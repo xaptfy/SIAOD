{
 "cells": [
  {
   "cell_type": "markdown",
   "id": "4ae434a5",
   "metadata": {},
   "source": [
    "# Лабораторная работа №5\n",
    "## Выполнил студент группы Быковская Арина Александровна ГРУППА БВТ2005\n",
    "# Рекурсия. Фракталы."
   ]
  },
  {
   "cell_type": "markdown",
   "id": "11043c7c",
   "metadata": {},
   "source": [
    "### Задание:\n",
    "Реализовать генерацию заданного типа фрактала с применением рекурсивных функций.\n",
    "\n",
    "\n",
    "Добавить возможность задания глубины фрактала. \n",
    "\n",
    "\n",
    "Оценить глубину рекурсии. \n",
    "\n",
    "\n",
    "Построить таблицу зависимости времени построения от глубины фрактала."
   ]
  },
  {
   "cell_type": "markdown",
   "id": "77733238",
   "metadata": {},
   "source": [
    "### Список фракталов:\n",
    "\n",
    "Кривая Коха\n",
    "| Кривая Гильберта\n",
    "| Кривая Серпинского\n",
    "| Салфетка Серпинского\n",
    "| Ковер Серпинского\n",
    "| Дерево Пифагора "
   ]
  },
  {
   "cell_type": "markdown",
   "id": "6960c3fb",
   "metadata": {},
   "source": [
    "### Выполнение:"
   ]
  },
  {
   "cell_type": "markdown",
   "id": "8843982e",
   "metadata": {},
   "source": [
    "### Кривая Коха"
   ]
  },
  {
   "cell_type": "code",
   "execution_count": null,
   "id": "a900fb66",
   "metadata": {},
   "outputs": [
    {
     "name": "stdout",
     "output_type": "stream",
     "text": [
      "Введите глубину фрактала: 1\n",
      " 0.8636023998260498 \n"
     ]
    }
   ],
   "source": [
    "import turtle\n",
    "import time\n",
    "\n",
    "n = int(input('Введите глубину фрактала: '))\n",
    "def koch_curve(ln, n):\n",
    "    if n == 0:\n",
    "        t.fd(ln)\n",
    "        return\n",
    "    a = ln / 3\n",
    "    koch_curve(a, n - 1)\n",
    "    t.left(60)\n",
    "    koch_curve(a, n - 1)\n",
    "    t.right(120)\n",
    "    koch_curve(a, n - 1)\n",
    "    t.left(60)\n",
    "    koch_curve(a, n - 1)\n",
    "\n",
    "\n",
    "t = turtle.Turtle()\n",
    "t.ht()\n",
    "\n",
    "start_time = time.time()\n",
    "koch_curve(200, n)\n",
    "print(\" %s \" % (time.time() - start_time))\n",
    "\n",
    "turtle.done()"
   ]
  },
  {
   "cell_type": "markdown",
   "id": "2306e45d",
   "metadata": {},
   "source": [
    "### Кривая Гильберта"
   ]
  },
  {
   "cell_type": "code",
   "execution_count": null,
   "id": "2f4f06e5",
   "metadata": {},
   "outputs": [],
   "source": [
    "import turtle\n",
    "import time"
   ]
  },
  {
   "cell_type": "code",
   "execution_count": null,
   "id": "ce95c3c6",
   "metadata": {},
   "outputs": [],
   "source": [
    "\n",
    "n = int(input('Введите глубину фрактала: '))\n",
    "def hilbert_curve(n, a, ln):\n",
    "    if n == 0:\n",
    "        return\n",
    "    \n",
    "    t.right(a)\n",
    "    hilbert_curve(n-1, -a, ln)\n",
    "  \n",
    "    t.fd(ln)\n",
    "    t.left(a)\n",
    "    hilbert_curve(n-1, a, ln)\n",
    "  \n",
    "    t.fd(ln)\n",
    "    hilbert_curve(n-1, a, ln)\n",
    "  \n",
    "    t.left(a)\n",
    "    t.fd(ln)\n",
    "    hilbert_curve(n-1, -a, ln)\n",
    "    t.right(a)\n",
    "    \n",
    "t = turtle.Turtle()\n",
    "t.ht()\n",
    "    \n",
    "start_time = time.time()\n",
    "hilbert_curve(n, 90, 10)\n",
    "print(\"--- %s s ---\" % (time.time() - start_time))\n",
    "\n",
    "turtle.done()"
   ]
  },
  {
   "cell_type": "markdown",
   "id": "43001441",
   "metadata": {},
   "source": [
    "### Кривая Серпинского"
   ]
  },
  {
   "cell_type": "code",
   "execution_count": null,
   "id": "c5772ba9",
   "metadata": {},
   "outputs": [],
   "source": [
    "import turtle\n",
    "import time\n",
    "n = int(input('Введите глубину фрактала: '))\n",
    "def half_sierpinski_curve(ln, n):\n",
    "    if n == 0:\n",
    "        return\n",
    "    half_sierpinski_curve(ln, n-1)\n",
    "    t.left(45)\n",
    "    t.fd(ln*(2**(0.5)))\n",
    "    t.left(45)\n",
    "    half_sierpinski_curve(ln, n-1)\n",
    "    t.right(90)\n",
    "    t.fd(ln)\n",
    "    t.right(90)\n",
    "    half_sierpinski_curve(ln, n-1)\n",
    "    t.left(45)\n",
    "    t.fd(ln*(2**(0.5)))\n",
    "    t.left(45)\n",
    "    half_sierpinski_curve(ln, n-1)\n",
    "    \n",
    "def sierpinski_curve(ln, n):\n",
    "    half_sierpinski_curve(ln, n)\n",
    "    t.right(90)\n",
    "    t.fd(ln)\n",
    "    t.right(90)\n",
    "    half_sierpinski_curve(ln, n)\n",
    "    t.right(90)\n",
    "    t.fd(ln)\n",
    "    t.right(90)\n",
    "    \n",
    "    \n",
    "t = turtle.Turtle()\n",
    "t.ht()\n",
    "\n",
    "start_time = time.time()\n",
    "sierpinski_curve(10, n)\n",
    "print(\"--- %s s ---\" % (time.time() - start_time))\n",
    "\n",
    "turtle.done()"
   ]
  },
  {
   "cell_type": "markdown",
   "id": "c5ed9033",
   "metadata": {},
   "source": [
    "### Салфетка Серпинского"
   ]
  },
  {
   "cell_type": "code",
   "execution_count": null,
   "id": "e23b7739",
   "metadata": {},
   "outputs": [],
   "source": [
    "import turtle\n",
    "import time\n",
    "n = int(input('Введите глубину фрактала: '))\n",
    "def sierpinski(ln, n):\n",
    "    if n == 0:\n",
    "        t.stamp()\n",
    "    else:\n",
    "        for i in range(0, 3):\n",
    "            t.fd(ln)\n",
    "            sierpinski(ln/2, n-1)\n",
    "            t.bk(ln)\n",
    "            t.left(120)\n",
    "            \n",
    "            \n",
    "t = turtle.Turtle()\n",
    "\n",
    "t.right(30)\n",
    "t.pu()\n",
    "t.ht()\n",
    "\n",
    "t.shape('triangle')\n",
    "    \n",
    "start_time = time.time()\n",
    "sierpinski(100, n)\n",
    "print(\"--- %s s ---\" % (time.time() - start_time))\n",
    "\n",
    "turtle.done()"
   ]
  },
  {
   "cell_type": "markdown",
   "id": "7dc6d30b",
   "metadata": {},
   "source": [
    "### Ковер Серпинского"
   ]
  },
  {
   "cell_type": "code",
   "execution_count": null,
   "id": "411b247c",
   "metadata": {},
   "outputs": [],
   "source": [
    "import turtle\n",
    "import time\n",
    "n = int(input('Введите глубину фрактала: '))\n",
    "def sierpinski_carpet(n, m):\n",
    "    if n == 0: \n",
    "        t.color('black')\n",
    "        t.begin_fill()\n",
    "        for i in range(4):\n",
    "            t.forward(m)\n",
    "            t.left(90)\n",
    "        t.end_fill()\n",
    "    else:\n",
    "        for i in range(4):\n",
    "            sierpinski_carpet(n-1, m/3)\n",
    "            t.forward(m/3)\n",
    " \n",
    "            sierpinski_carpet(n-1, m/3)\n",
    "            t.forward(m/3)\n",
    " \n",
    "            t.forward(m/3)\n",
    "            t.left(90)\n",
    "\n",
    "        \n",
    "t = turtle.Turtle()\n",
    "t.ht()\n",
    "\n",
    "start_time = time.time()\n",
    "sierpinski_carpet(n, 100)\n",
    "print(\"--- %s s ---\" % (time.time() - start_time))\n",
    "\n",
    "turtle.done()"
   ]
  },
  {
   "cell_type": "markdown",
   "id": "261831f7",
   "metadata": {},
   "source": [
    "### Дерево Пифагора"
   ]
  },
  {
   "cell_type": "code",
   "execution_count": null,
   "id": "0357eb16",
   "metadata": {},
   "outputs": [],
   "source": [
    "import turtle\n",
    "import time\n",
    "n = int(input('Введите глубину фрактала: '))\n",
    "def pythagoras_tree(ln, n): \n",
    "    if n <= 0 :  \n",
    "        t.fd(ln) \n",
    "    else:\n",
    "        t.right(135)\n",
    "        t.fd((ln*ln/2)**(0.5))\n",
    "        t.left(90)\n",
    "        pythagoras_tree(((ln*ln/2)**(0.5)), n-1)\n",
    "        t.left(90)\n",
    "        t.fd((ln*ln/2)**(0.5))\n",
    "        t.left(90)\n",
    "        t.fd((ln*ln/2)**(0.5))\n",
    "        t.right(135)\n",
    "        t.fd(ln)\n",
    "        t.right(135)\n",
    "        t.fd((ln*ln/2)**(0.5))\n",
    "        t.left(90)\n",
    "        t.fd((ln*ln/2)**(0.5))\n",
    "        t.left(90)\n",
    "        pythagoras_tree(((ln*ln/2)**(0.5)), n-1)\n",
    "        t.left(90)\n",
    "        t.fd((ln*ln/2)**(0.5))\n",
    "        t.right(135)\n",
    "        \n",
    "def carre(ln, n):\n",
    "    t.fd(ln)\n",
    "    t.left(90)\n",
    "    t.fd(ln)\n",
    "    t.left(90)\n",
    "    pythagoras_tree(ln, n)\n",
    "    t.left(90)\n",
    "    t.fd(ln)\n",
    "       \n",
    "t = turtle.Turtle()\n",
    "t.ht()\n",
    "\n",
    "start_time = time.time()\n",
    "carre(100, n)\n",
    "print(\" %s \" % (time.time() - start_time))\n",
    "\n",
    "turtle.done()"
   ]
  },
  {
   "cell_type": "markdown",
   "id": "6054ea68",
   "metadata": {},
   "source": [
    "# Вывод"
   ]
  },
  {
   "cell_type": "code",
   "execution_count": null,
   "id": "7a29ea65",
   "metadata": {},
   "outputs": [],
   "source": [
    "import pandas as pd\n",
    "table = [[\"Кривая Коха\", \"0.919 sec\", \"3.119 sec\", \"11.832 sec\", \"48.268 sec\"],\n",
    "        [\"Кривая Гильберта\", \"0.785 sec\", \"4.118 sec\", \"17.602 sec\", \"71.533 sec\"],\n",
    "        [\"Кривая Серпинского\", \"2.683 sec\", \"10.284 sec\", \"42.467 sec\", \"169.934 sec\"],\n",
    "        [\"Салфетка Серпинского\", \"1.168 sec\", \"3.827 sec\", \"10.612 sec\", \"28.984 sec\"],\n",
    "        [\"Ковер Серпинского\", \"9.785 sec\", \"68.686 sec\", \"552.491 sec\", \"5815.719 sec\"],\n",
    "        [\"Дерево Пифагора\", \"4.335 sec\", \"10.333 sec\", \"23.349 sec\", \"45.918 sec\"]]\n",
    "\n",
    "pd.DataFrame(table, columns=[\"Фрактал\",\"Глубина = 1\", \"Глубина = 2\", \"Глубина = 3\", \"Глубина = 4\"])"
   ]
  },
  {
   "cell_type": "code",
   "execution_count": null,
   "id": "6cbcb8bc",
   "metadata": {},
   "outputs": [],
   "source": []
  }
 ],
 "metadata": {
  "kernelspec": {
   "display_name": "Python 3 (ipykernel)",
   "language": "python",
   "name": "python3"
  },
  "language_info": {
   "codemirror_mode": {
    "name": "ipython",
    "version": 3
   },
   "file_extension": ".py",
   "mimetype": "text/x-python",
   "name": "python",
   "nbconvert_exporter": "python",
   "pygments_lexer": "ipython3",
   "version": "3.10.2"
  }
 },
 "nbformat": 4,
 "nbformat_minor": 5
}
