{
 "cells": [
  {
   "cell_type": "markdown",
   "id": "920b02c1",
   "metadata": {},
   "source": [
    "# Лабораторная работа №5\n",
    "## Выполнил студент группы Быковская Арина Александровна ГРУППА БВТ2005\n",
    "# Рекурсия. Фракталы."
   ]
  },
  {
   "cell_type": "markdown",
   "id": "a725275e",
   "metadata": {},
   "source": [
    "### Задание:\n",
    "Реализовать генерацию заданного типа фрактала с применением рекурсивных функций.\n",
    "\n",
    "\n",
    "Добавить возможность задания глубины фрактала. \n",
    "\n",
    "\n",
    "Оценить глубину рекурсии. \n",
    "\n",
    "\n",
    "Построить таблицу зависимости времени построения от глубины фрактала."
   ]
  },
  {
   "cell_type": "markdown",
   "id": "3989cfc9",
   "metadata": {},
   "source": [
    "### Список фракталов:\n",
    "\n",
    "Кривая Коха\n",
    "| Кривая Гильберта\n",
    "| Кривая Серпинского\n",
    "| Салфетка Серпинского\n",
    "| Ковер Серпинского\n",
    "| Дерево Пифагора "
   ]
  },
  {
   "cell_type": "markdown",
   "id": "897eee14",
   "metadata": {},
   "source": [
    "### Выполнение:"
   ]
  },
  {
   "cell_type": "markdown",
   "id": "44d06287",
   "metadata": {},
   "source": [
    "### Кривая Коха"
   ]
  },
  {
   "cell_type": "code",
   "execution_count": null,
   "id": "41622b99",
   "metadata": {},
   "outputs": [
    {
     "name": "stdout",
     "output_type": "stream",
     "text": [
      "Введите глубину фрактала: 1\n",
      " 0.8636023998260498 \n"
     ]
    }
   ],
   "source": [
    "import turtle\n",
    "import time\n",
    "\n",
    "n = int(input('Введите глубину фрактала: '))\n",
    "def koch_curve(ln, n):\n",
    "    if n == 0:\n",
    "        t.fd(ln)\n",
    "        return\n",
    "    a = ln / 3\n",
    "    koch_curve(a, n - 1)\n",
    "    t.left(60)\n",
    "    koch_curve(a, n - 1)\n",
    "    t.right(120)\n",
    "    koch_curve(a, n - 1)\n",
    "    t.left(60)\n",
    "    koch_curve(a, n - 1)\n",
    "\n",
    "\n",
    "t = turtle.Turtle()\n",
    "t.ht()\n",
    "\n",
    "start_time = time.time()\n",
    "koch_curve(200, n)\n",
    "print(\" %s \" % (time.time() - start_time))\n",
    "\n",
    "turtle.done()"
   ]
  },
  {
   "cell_type": "markdown",
   "id": "473a31a3",
   "metadata": {},
   "source": [
    "### Кривая Гильберта"
   ]
  },
  {
   "cell_type": "code",
   "execution_count": null,
   "id": "48ab03db",
   "metadata": {},
   "outputs": [],
   "source": [
    "import turtle\n",
    "import time\n",
    "n = int(input('Введите глубину фрактала: '))\n",
    "def hilbert_curve(n, a, ln):\n",
    "    if n == 0:\n",
    "        return\n",
    "    \n",
    "    t.right(a)\n",
    "    hilbert_curve(n-1, -a, ln)\n",
    "  \n",
    "    t.fd(ln)\n",
    "    t.left(a)\n",
    "    hilbert_curve(n-1, a, ln)\n",
    "  \n",
    "    t.fd(ln)\n",
    "    hilbert_curve(n-1, a, ln)\n",
    "  \n",
    "    t.left(a)\n",
    "    t.fd(ln)\n",
    "    hilbert_curve(n-1, -a, ln)\n",
    "    t.right(a)\n",
    "    \n",
    "t = turtle.Turtle()\n",
    "t.ht()\n",
    "    \n",
    "start_time = time.time()\n",
    "hilbert_curve(n, 90, 10)\n",
    "print(\" %s \" % (time.time() - start_time))\n",
    "\n",
    "turtle.done()"
   ]
  },
  {
   "cell_type": "markdown",
   "id": "70d0d64a",
   "metadata": {},
   "source": [
    "Введите глубину фрактала: 1\n",
    " 0.799027681350708 "
   ]
  },
  {
   "cell_type": "markdown",
   "id": "d920300a",
   "metadata": {},
   "source": [
    "### Кривая Серпинского"
   ]
  },
  {
   "cell_type": "code",
   "execution_count": null,
   "id": "ecf7359f",
   "metadata": {},
   "outputs": [],
   "source": [
    "import turtle\n",
    "import time\n",
    "n = int(input('Введите глубину фрактала: '))\n",
    "def half_sierpinski_curve(ln, n):\n",
    "    if n == 0:\n",
    "        return\n",
    "    half_sierpinski_curve(ln, n-1)\n",
    "    t.left(45)\n",
    "    t.fd(ln*(2**(0.5)))\n",
    "    t.left(45)\n",
    "    half_sierpinski_curve(ln, n-1)\n",
    "    t.right(90)\n",
    "    t.fd(ln)\n",
    "    t.right(90)\n",
    "    half_sierpinski_curve(ln, n-1)\n",
    "    t.left(45)\n",
    "    t.fd(ln*(2**(0.5)))\n",
    "    t.left(45)\n",
    "    half_sierpinski_curve(ln, n-1)\n",
    "    \n",
    "def sierpinski_curve(ln, n):\n",
    "    half_sierpinski_curve(ln, n)\n",
    "    t.right(90)\n",
    "    t.fd(ln)\n",
    "    t.right(90)\n",
    "    half_sierpinski_curve(ln, n)\n",
    "    t.right(90)\n",
    "    t.fd(ln)\n",
    "    t.right(90)\n",
    "    \n",
    "    \n",
    "t = turtle.Turtle()\n",
    "t.ht()\n",
    "\n",
    "start_time = time.time()\n",
    "sierpinski_curve(10, n)\n",
    "print(\" %s \" % (time.time() - start_time))\n",
    "\n",
    "turtle.done()"
   ]
  },
  {
   "cell_type": "markdown",
   "id": "e3923d82",
   "metadata": {},
   "source": [
    "Введите глубину фрактала: 1\n",
    " 2.5956194400787354 "
   ]
  },
  {
   "cell_type": "markdown",
   "id": "5084b6df",
   "metadata": {},
   "source": [
    "### Салфетка Серпинского"
   ]
  },
  {
   "cell_type": "code",
   "execution_count": null,
   "id": "9bf64d6d",
   "metadata": {},
   "outputs": [],
   "source": [
    "import turtle\n",
    "import time\n",
    "n = int(input('Введите глубину фрактала: '))\n",
    "def sierpinski(ln, n):\n",
    "    if n == 0:\n",
    "        t.stamp()\n",
    "    else:\n",
    "        for i in range(0, 3):\n",
    "            t.fd(ln)\n",
    "            sierpinski(ln/2, n-1)\n",
    "            t.bk(ln)\n",
    "            t.left(120)\n",
    "            \n",
    "            \n",
    "t = turtle.Turtle()\n",
    "\n",
    "t.right(30)\n",
    "t.pu()\n",
    "t.ht()\n",
    "\n",
    "t.shape('triangle')\n",
    "    \n",
    "start_time = time.time()\n",
    "sierpinski(100, n)\n",
    "print(\" %s \" % (time.time() - start_time))\n",
    "\n",
    "turtle.done()"
   ]
  },
  {
   "cell_type": "markdown",
   "id": "6af0ad74",
   "metadata": {},
   "source": [
    "Введите глубину фрактала: 1\n",
    " 1.5761964321136475 "
   ]
  },
  {
   "cell_type": "markdown",
   "id": "60b0c90e",
   "metadata": {},
   "source": [
    "### Ковер Серпинского"
   ]
  },
  {
   "cell_type": "code",
   "execution_count": null,
   "id": "ecda0068",
   "metadata": {},
   "outputs": [],
   "source": [
    "import turtle\n",
    "import time\n",
    "n = int(input('Введите глубину фрактала: '))\n",
    "def sierpinski_carpet(n, m):\n",
    "    if n == 0: \n",
    "        t.color('black')\n",
    "        t.begin_fill()\n",
    "        for i in range(4):\n",
    "            t.forward(m)\n",
    "            t.left(90)\n",
    "        t.end_fill()\n",
    "    else:\n",
    "        for i in range(4):\n",
    "            sierpinski_carpet(n-1, m/3)\n",
    "            t.forward(m/3)\n",
    " \n",
    "            sierpinski_carpet(n-1, m/3)\n",
    "            t.forward(m/3)\n",
    " \n",
    "            t.forward(m/3)\n",
    "            t.left(90)\n",
    "\n",
    "        \n",
    "t = turtle.Turtle()\n",
    "t.ht()\n",
    "\n",
    "start_time = time.time()\n",
    "sierpinski_carpet(n, 100)\n",
    "print(\"%s \" % (time.time() - start_time))\n",
    "\n",
    "turtle.done()"
   ]
  },
  {
   "cell_type": "markdown",
   "id": "b11114c8",
   "metadata": {},
   "source": [
    "Введите глубину фрактала: 1\n",
    "11.34839677810669 "
   ]
  },
  {
   "cell_type": "markdown",
   "id": "82842680",
   "metadata": {},
   "source": [
    "### Дерево Пифагора"
   ]
  },
  {
   "cell_type": "code",
   "execution_count": null,
   "id": "24f2f3b0",
   "metadata": {},
   "outputs": [],
   "source": [
    "import turtle\n",
    "import time\n",
    "n = int(input('Введите глубину фрактала: '))\n",
    "def pythagoras_tree(ln, n): \n",
    "    if n <= 0 :  \n",
    "        t.fd(ln) \n",
    "    else:\n",
    "        t.right(135)\n",
    "        t.fd((ln*ln/2)**(0.5))\n",
    "        t.left(90)\n",
    "        pythagoras_tree(((ln*ln/2)**(0.5)), n-1)\n",
    "        t.left(90)\n",
    "        t.fd((ln*ln/2)**(0.5))\n",
    "        t.left(90)\n",
    "        t.fd((ln*ln/2)**(0.5))\n",
    "        t.right(135)\n",
    "        t.fd(ln)\n",
    "        t.right(135)\n",
    "        t.fd((ln*ln/2)**(0.5))\n",
    "        t.left(90)\n",
    "        t.fd((ln*ln/2)**(0.5))\n",
    "        t.left(90)\n",
    "        pythagoras_tree(((ln*ln/2)**(0.5)), n-1)\n",
    "        t.left(90)\n",
    "        t.fd((ln*ln/2)**(0.5))\n",
    "        t.right(135)\n",
    "        \n",
    "def carre(ln, n):\n",
    "    t.fd(ln)\n",
    "    t.left(90)\n",
    "    t.fd(ln)\n",
    "    t.left(90)\n",
    "    pythagoras_tree(ln, n)\n",
    "    t.left(90)\n",
    "    t.fd(ln)\n",
    "       \n",
    "t = turtle.Turtle()\n",
    "t.ht()\n",
    "\n",
    "start_time = time.time()\n",
    "carre(100, n)\n",
    "print(\" %s \" % (time.time() - start_time))\n",
    "\n",
    "turtle.done()"
   ]
  },
  {
   "cell_type": "markdown",
   "id": "74c2e033",
   "metadata": {},
   "source": [
    "Введите глубину фрактала: 1\n",
    " 4.117222309112549 "
   ]
  },
  {
   "cell_type": "code",
   "execution_count": null,
   "id": "5490c711",
   "metadata": {},
   "outputs": [],
   "source": [
    "import pandas as pd\n",
    "table = [[\"Кривая Коха\", \"0.8636023998260498\"],\n",
    "        [\"Кривая Гильберта\", \" 0.799027681350708 \"],\n",
    "        [\"Кривая Серпинского\", \"2.5956194400787354 \"],\n",
    "        [\"Салфетка Серпинского\", \" 1.5761964321136475 \"],\n",
    "        [\"Ковер Серпинского\", \"11.34839677810669 \"],\n",
    "        [\"Дерево Пифагора\", \" 4.117222309112549 \"]]\n",
    "\n",
    "pd.DataFrame(table, columns=[\"Фрактал\",\"Глубина = 1\"])"
   ]
  },
  {
   "cell_type": "markdown",
   "id": "a4638b9d",
   "metadata": {},
   "source": [
    "# Вывод"
   ]
  },
  {
   "cell_type": "markdown",
   "id": "e6d370f4",
   "metadata": {},
   "source": [
    "#### В ходе данной лабораторной работы, каждая ячейка кода работала сталибльно и без ошибок, но после запуска всех ячеек, юпитер отказался запускать. Поэтому, я приняла решение запустить код в PyChar, где он стабильно работал. Также, я изучила рекурсивные функции и постороила многие виды фракталов, а также проанализировала затраченное время на значение глубины фрактала. "
   ]
  }
 ],
 "metadata": {
  "kernelspec": {
   "display_name": "Python 3 (ipykernel)",
   "language": "python",
   "name": "python3"
  },
  "language_info": {
   "codemirror_mode": {
    "name": "ipython",
    "version": 3
   },
   "file_extension": ".py",
   "mimetype": "text/x-python",
   "name": "python",
   "nbconvert_exporter": "python",
   "pygments_lexer": "ipython3",
   "version": "3.10.2"
  }
 },
 "nbformat": 4,
 "nbformat_minor": 5
}
