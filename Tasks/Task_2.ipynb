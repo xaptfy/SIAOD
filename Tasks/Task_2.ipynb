{
 "cells": [
  {
   "cell_type": "markdown",
   "id": "3dc896f3",
   "metadata": {},
   "source": [
    "# Task 2\n",
    "## Выполнила студентка группы БВТ2005 Быковская Арина Александровна "
   ]
  },
  {
   "cell_type": "markdown",
   "id": "arctic-stocks",
   "metadata": {},
   "source": [
    "### Задание №1\n",
    "Массив A состоит из целых положительных чисел длин отрезков. Составьте из трех отрезков такой треугольник, чтобы его периметр был максимально возможным. Если невозможно составить треугольник с положительной площадью функция возвращает 0."
   ]
  },
  {
   "cell_type": "code",
   "execution_count": 1,
   "id": "caring-truck",
   "metadata": {
    "scrolled": false
   },
   "outputs": [
    {
     "name": "stdout",
     "output_type": "stream",
     "text": [
      " 1 2 7 5 8 13 4\n",
      "[13, 8, 7]\n"
     ]
    }
   ],
   "source": [
    "def func():\n",
    "    data = input().strip().replace(\"  \", \" \").split(\" \")\n",
    "    arr = [int(el) for el in data]\n",
    "    p = 0\n",
    "    if len(arr) < 3:\n",
    "        return 0\n",
    "    arr.sort()\n",
    "    j = len(arr) - 1\n",
    "    while j > 1:\n",
    "        a = arr[j]\n",
    "        b = arr[j - 1]\n",
    "        c = arr[j - 2]\n",
    "        if (b + c) > a:\n",
    "            p = a + b + c\n",
    "            return [a, b, c]\n",
    "        j -= 1\n",
    "    return 0\n",
    "print(func())"
   ]
  },
  {
   "cell_type": "markdown",
   "id": "maritime-conversation",
   "metadata": {},
   "source": [
    "### Задание №2\n",
    "Дан массив неотрицательных целых чисел nums. Расположите их в таком порядке, чтобы вместе они образовали максимально возможное число. Замечание: Результат может быть очень большим числом, поэтому представьте его как string, а не integer."
   ]
  },
  {
   "cell_type": "code",
   "execution_count": 4,
   "id": "alert-charm",
   "metadata": {
    "scrolled": false
   },
   "outputs": [
    {
     "name": "stdout",
     "output_type": "stream",
     "text": [
      "Отсортированный массив\n",
      "['328', '27', '2', '2003', '13', '0']\n",
      "Результат\n",
      "3282722003130\n"
     ]
    }
   ],
   "source": [
    "class Main(str):\n",
    "    def __lt__(self, other):\n",
    "        return int(other+self) > int(self+other)\n",
    "    \n",
    "def line(nums, iter = 0):\n",
    "    nums = [str(item) for item in nums]\n",
    "    nums.sort(reverse=True,key=Main)\n",
    "    print('Отсортированный массив') \n",
    "    print(nums)\n",
    "    print('Результат')\n",
    "    print(''.join(nums))\n",
    "line([328,13,27,0,2,2003])"
   ]
  },
  {
   "cell_type": "markdown",
   "id": "catholic-roots",
   "metadata": {},
   "source": [
    "### Задание №3\n",
    "Дана матрица mat размером m * n, значения целочисленные. Напишите функцию, сортирующую каждую диагональ матрицы по возрастанию и возвращающую получившуюся матрицу."
   ]
  },
  {
   "cell_type": "code",
   "execution_count": 5,
   "id": "cleared-anniversary",
   "metadata": {
    "scrolled": false
   },
   "outputs": [
    {
     "name": "stdout",
     "output_type": "stream",
     "text": [
      "13\n",
      "27\n",
      "Исходная матрица\n",
      "  28  15  20  25  28  25  13  50  16  21  48  26  30\n",
      "  43  16  46  41  11  36  34  17  20  21  25  33  48\n",
      "  29  25  23  40  47  10   6  22   7  38  11   5  13\n",
      "   6  37  18  41  18  20   2  11  30  29  10  40  13\n",
      "  34  11  40  23   9  10   3  25  43  12  19  41  30\n",
      "  19  50  33  24  36   2   5   1  13  31  29  14  31\n",
      "  35  33  28  13  28  23  43   8  15  45  41  20  43\n",
      "  15  48  48  37  22   7  29  21  31  37  22  27  28\n",
      "  25  39  24  32  15  44  31   9  42  16  14  33  47\n",
      "   4  33  33  19  38   2  45  30  50  18  24   3  20\n",
      "  37  43  41  33  45  43  17  35  11  29  16  13  28\n",
      "  19  37   2  50  43   2  44  18  44  17  31  24  28\n",
      "  49  16  44  25  37  28  29  26  31  47  38  17  21\n",
      "  25  41  14   1  19  46   2   5  11  42  48  39  11\n",
      "  13   9  40  11  48  16  31  44   1  24  34   6   7\n",
      "  27  12  39   5   2   7   2   9  45  47  34  24  21\n",
      "  31  48  44  50  33  23   1  18  20  26   6  50  39\n",
      "  45   2  19  30   2   3  31  31   3  23  30  32  28\n",
      "   5  28   4  29  16  44  39  34  42  43   4   8  25\n",
      "  22   5  21  44  23  19   8  50  43   1   1   6  47\n",
      "  39  25  23   4  31  50  31   1  11  32  39  37   5\n",
      "  20  32  38  37  18  36  41  23  17   1  50  49  46\n",
      "  43  21  21  13  29   8  40   3   6  19  11  50  23\n",
      "  16  10  19  21  21  44   6  14  36  14  16  37  42\n",
      "  36  34  36  34  40  28  22  11  45  32  12  29   3\n",
      "  45  42  16  38   4  31   5  50   2  44  24  37  41\n",
      "  11  31  37  21  36   5  27  18  21  38  42  28  42\n",
      "Результирующая матрица\n",
      "   2  15  20  25  28  25  13  50  16  21  48  26  30\n",
      "  43   9  46  41  11  36  34  17  20  21  25  33  48\n",
      "  29  25  16  40  47  10   6  22   7  38  11   5  13\n",
      "   6  37  18  16  18  20   2  11  30  29  10  40  13\n",
      "  34  11  40  23  18  10   3  25  43  12  19  41  30\n",
      "  19  50  33  24  36  21   5   1  13  31  29  14  31\n",
      "  35  33  28  13  28  23  21   8  15  45  41  20  43\n",
      "  15  48  48  37  22   7  29  23  31  37  22  27  28\n",
      "  25  39  24  32  15  44  31   9  24  16  14  33  47\n",
      "   4  33  33  19  38   2  45  30  50  28  24   3  20\n",
      "  37  43  41  33  45  43  17  35  11  29  41  13  28\n",
      "  19  37   2  50  43   2  44  18  44  17  31  42  28\n",
      "  49  16  44  25  37  28  29  26  31  47  38  17  43\n",
      "  25  41  14   1  19  46   2   5  11  42  48  39  11\n",
      "  13   9  40  11  48  16  31  44   1  24  34   6  50\n",
      "  27  12  39   5   2   7   2   9  45  47  34  42  21\n",
      "  31  48  44  50  33  23   1  18  20  26  42  50  39\n",
      "  45   2  19  30   2   3  31  31   3  36  30  32  28\n",
      "   5  28   4  29  16  44  39  34  36  43   4   8  25\n",
      "  22   5  21  44  23  19   8  31  43   1   1   6  47\n",
      "  39  25  23   4  31  50  29   1  11  32  39  37   5\n",
      "  20  32  38  37  18  24  41  23  17   1  50  49  46\n",
      "  43  21  21  13  23   8  40   3   6  19  11  50  23\n",
      "  16  10  19  21  21  44   6  14  36  14  16  37  42\n",
      "  36  34  11  34  40  28  22  11  45  32  12  29   3\n",
      "  45   7  16  38   4  31   5  50   2  44  24  37  41\n",
      "   6  31  37  21  36   5  27  18  21  38  42  28  42\n"
     ]
    }
   ],
   "source": [
    "import random as rn\n",
    "def printMatr(matrix):\n",
    "    print('\\n'.join([''.join(['{:4}'.format(item) for item in row]) for row in matrix]))\n",
    "    \n",
    "# сортировка пузырьком \n",
    "def diagonals(matr):\n",
    "    height = len(matr) - 1\n",
    "    width = len(matr[0]) - 1\n",
    "    diagLen = min(width, height) + 1\n",
    "    for _ in range(diagLen):\n",
    "        for i in range(0, diagLen - 1):\n",
    "            if (matr[i][i] > matr[i+1][i+1]):\n",
    "                matr[i][i], matr[i+1][i+1] = matr[i+1][i+1], matr[i][i]\n",
    "            if (matr[height-i][i] > matr[height-i-1][i+1]):\n",
    "                matr[height-i][i], matr[height-i-1][i+1] = matr[height-i-1][i+1], matr[height-i][i]  \n",
    "    printMatr(matr)\n",
    "m = int(input())\n",
    "n = int(input())\n",
    "matr = [[rn.randint(1,50) for j in range(0,m)] for i in range(0,n)]\n",
    "print(\"Исходная матрица\")\n",
    "printMatr(matr)\n",
    "print(\"Результирующая матрица\")\n",
    "diagonals(matr)"
   ]
  },
  {
   "cell_type": "code",
   "execution_count": null,
   "id": "d500f957",
   "metadata": {},
   "outputs": [],
   "source": []
  }
 ],
 "metadata": {
  "kernelspec": {
   "display_name": "Python 3 (ipykernel)",
   "language": "python",
   "name": "python3"
  },
  "language_info": {
   "codemirror_mode": {
    "name": "ipython",
    "version": 3
   },
   "file_extension": ".py",
   "mimetype": "text/x-python",
   "name": "python",
   "nbconvert_exporter": "python",
   "pygments_lexer": "ipython3",
   "version": "3.10.2"
  }
 },
 "nbformat": 4,
 "nbformat_minor": 5
}
