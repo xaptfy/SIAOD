{
 "cells": [
  {
   "cell_type": "markdown",
   "id": "fifteen-sailing",
   "metadata": {},
   "source": [
    "# Task 2\n",
    "## Выполнила студентка группы БВТ2005 Быковская Арина Александровна\n",
    "\n",
    "### Задание 1\n",
    "В Тридевятом Царстве уже много лет как установилась конституционная монархия. В парламент Тридевятого царства входят 26 партий, обозначаемых строчными буквами английского алфавита от «a» до «z». Заседание парламента в соответствии с регламентом проходит по следующей схеме:\n",
    "- В начале заседания никаких законопроектов на повестке дня не стоит.\n",
    "- Любая партия (в том числе и та, которая внесла текущий законопроект) в любой момент времени может внести на обсуждение новый законопроект.\n",
    "- При вносе партией нового законопроекта обсуждение предыдущего приостанавливается и начинается обсуждение нового. После того, как парламентарии голосуют за новый законопроект, обсуждение законопроекта, прерванного им, продолжается.\n",
    "- Дискуссия по любому законопроекту обязана завершиться голосованием по этому законопроекту.\n",
    "- В конце заседания не должно остаться внесённых законопроектов, дискуссия по которым не завершена.\n",
    "\n",
    "Вам дана запись о событиях на сессии парламента. Каждое событие является либо внесением нового законопроекта, либо голосованием за какой-то законопроект, причём в обоих случаях известен номер партии, этот законопроект предложившей. События даны в том порядке, в котором они происходили. Проверьте, может ли данная запись о событиях соответствовать какому-либо заседанию, удовлетворяющему порядку проведения, описанному выше.\n",
    "#### Ввод\n",
    "Первая строка входных данных содержит одно целое число *K* – количество строк в записи сессии (1 ≤ *K* ≤ 1000). Каждая строка соответствует одному из двух событий:\n",
    "\n",
    "- Add *x* – партия x внесла на голосование законопроект.\n",
    "- Vote *x* – прошло голосование за документ, внесённый партией *x*.\n",
    "\n",
    "Здесь *x* – строчная буква английского алфавита от «a» до «z», задающая партию.\n",
    "#### Вывод\n",
    "Выведите «Yes», если существует корректный порядок проведения заседания, который мог привести к такой записи, и «No», если ни при каком корректном порядке проведения заседания данная запись появиться не могла."
   ]
  },
  {
   "cell_type": "code",
   "execution_count": 2,
   "id": "concerned-lewis",
   "metadata": {},
   "outputs": [
    {
     "name": "stdout",
     "output_type": "stream",
     "text": [
      "5\n",
      "['Add o', 'Vote o', 'Vote a', 'Add k', 'Vote k']\n",
      "No\n"
     ]
    }
   ],
   "source": [
    "import random\n",
    "import string\n",
    "\n",
    "def getChar():\n",
    "    return (random.choice(string.ascii_lowercase))\n",
    "\n",
    "def getAction():\n",
    "    return (random.choice(['Add ', 'Vote ']))\n",
    "\n",
    "def generateHistory(stop, history = []):\n",
    "    party = getChar()\n",
    "    if len(history) > 0:\n",
    "        ind = random.randint(0, len(history))\n",
    "        history.insert(ind, 'Vote ' + party)\n",
    "        history.insert(ind, 'Add ' + party)\n",
    "    else:\n",
    "        history.insert(0, 'Vote ' + party)\n",
    "        history.insert(0, 'Add ' + party)\n",
    "    if len(history) == stop:\n",
    "        return history\n",
    "    else:\n",
    "        return generateHistory(stop, history)\n",
    "    \n",
    "def checkHistory(history:list):\n",
    "    lastAction = None\n",
    "    lastParty = None\n",
    "    toPop = None\n",
    "    \n",
    "    if len(history) % 2 == 1:\n",
    "        return 'No'\n",
    "    \n",
    "    (action, party) = history[0].split()\n",
    "    if action == 'Vote':\n",
    "        return 'No'\n",
    "    \n",
    "    for i in range(len(history) >> 1):\n",
    "        for j in range(len(history)):\n",
    "            (action, party) = history[j].split()\n",
    "            if lastAction != None:\n",
    "                if lastAction == 'Add' and action == \"Vote\":\n",
    "                    if lastParty != party:\n",
    "                        return 'No'\n",
    "                    else:\n",
    "                        toPop = j\n",
    "            lastAction = action\n",
    "            lastParty = party\n",
    "        \n",
    "        print(i, \"-ая итерация:\", history)\n",
    "        history.pop(toPop)\n",
    "        history.pop(toPop-1)\n",
    "            \n",
    "    return 'Yes'\n",
    "\n",
    "k = (int)(input())\n",
    "\n",
    "if k % 2 == 1:\n",
    "    history = [getAction() + getChar()]\n",
    "else:\n",
    "    history = []\n",
    "    \n",
    "history = generateHistory(k, history)\n",
    "\n",
    "print(history)\n",
    "print(checkHistory(history))"
   ]
  },
  {
   "cell_type": "markdown",
   "id": "controversial-location",
   "metadata": {},
   "source": [
    "### Задача 2. Правильный подмногоугольник\n",
    "\n",
    "Задан правильный *N*-угольник. Требуется выбрать наименьшее количество его вершин, которые также образуют правильный многоугольник.\n",
    "\n",
    "#### Входные данные\n",
    "\n",
    "Входные данные содержат одно целое число *N* (3 ≤ *N* ≤ 1012).\n",
    "\n",
    "#### Вывод\n",
    "\n",
    "Выведите одно число — наименьшее количество вершин заданного многоугольника, которые образуют правильный многоугольник."
   ]
  },
  {
   "cell_type": "code",
   "execution_count": 3,
   "id": "coated-highway",
   "metadata": {},
   "outputs": [
    {
     "name": "stdout",
     "output_type": "stream",
     "text": [
      "13\n",
      "13\n",
      "\n",
      " \n",
      "\n",
      "27\n",
      "3\n"
     ]
    }
   ],
   "source": [
    "def minVertex(k:int):\n",
    "    for i in range(3, (k + 1) >> 1):\n",
    "        if k % i == 0:\n",
    "            return i\n",
    "    return k\n",
    "\n",
    "k = (int)(input())\n",
    "print(minVertex(k))\n",
    "print(\"\\n \\n\")\n",
    "k = (int)(input())\n",
    "print(minVertex(k))"
   ]
  },
  {
   "cell_type": "markdown",
   "id": "cordless-fundamentals",
   "metadata": {},
   "source": [
    "### Задача 3.\n",
    "\n",
    "На форуме, на котором обсуждаются задачи олимпиад по информатике, ввели следующий аналог капчи. Участнику выдаётся строка из *N* десятичных цифр (без ведущих нулей). В качестве ответа требуется ввести такое основание системы счисления *B*, что в этой системе счисления выданная запись будет соответствовать составному числу (назовем его *D*), а также число *X*, большее 1 и меньшее *D*, являющееся делителем *D*.\n",
    "\n",
    "При этом *B* и *X* не должны превосходить 10^9.\n",
    "\n",
    "По заданной строке десятичных цифр найдите любую пару чисел *B* и *X*, удовлетворяющую ограничениям, или ответьте, что решения в заданных ограничениях не существует.\n",
    "\n",
    "#### Входные данные\n",
    "\n",
    "Входные данные состоят из непустой строки длиной до 3 ⋅ 106 символов, составленной из цифр от 0 до 9 и не начинающейся с 0.\n",
    "\n",
    "#### Вывод\n",
    "\n",
    "Если решение существует, выведите два числа – основание системы счисления *B* и делитель *X*, записанные в десятичной системе счисления. Оба числа должны удовлетворять ограничениям 2 ≤ *B*, *X* ≤ 10^9. Если решения не существует, выведите –1."
   ]
  },
  {
   "cell_type": "code",
   "execution_count": 4,
   "id": "jewish-rocket",
   "metadata": {
    "scrolled": true
   },
   "outputs": [
    {
     "name": "stdout",
     "output_type": "stream",
     "text": [
      "425817350443117785613094856897532163589\n",
      "[10, 141939116814372595204364952299177387863]\n",
      "9\n",
      "[10, 3]\n"
     ]
    }
   ],
   "source": [
    "import random\n",
    "\n",
    "def toNumsArray(num):\n",
    "    numsArr = []\n",
    "    while num > 0:\n",
    "        numsArr.insert(0, num % 10)\n",
    "        num = num // 10\n",
    "    return numsArr\n",
    "\n",
    "def minimalDivider(num):\n",
    "    oldNum = num\n",
    "    for i in range(2, 10):\n",
    "        while num % i == 0 and num != i:\n",
    "            num = num // i\n",
    "    if num != oldNum:\n",
    "        return num\n",
    "    return -1\n",
    "    \n",
    "def convertToDecimal(numsArr, frm):\n",
    "    convertedNum = 0\n",
    "    for i in range(len(numsArr)):\n",
    "        convertedNum += numsArr[i]*(frm**(len(numsArr)-i-1))\n",
    "    return convertedNum\n",
    "\n",
    "def captcha(num):\n",
    "    numsArr = toNumsArray(num)\n",
    "    maxNum = max(numsArr)\n",
    "    \n",
    "    if len(numsArr) == 1:\n",
    "        minimalDiv = minimalDivider(num)\n",
    "        if (minimalDiv == -1):\n",
    "            return -1\n",
    "        else:\n",
    "            return [10, minimalDiv]\n",
    "    \n",
    "    for i in range(maxNum+1, 10**9):\n",
    "        convertedNum = convertToDecimal(numsArr, i)\n",
    "        minimalDiv = minimalDivider(convertedNum)\n",
    "        if (minimalDiv > 1):\n",
    "            return [i, minimalDiv]\n",
    "    return -1\n",
    "\n",
    "nums = [(str)(random.randint(0,9)) for x in range(random.randint(1, 100))]\n",
    "shortNum = [(str)(random.randint(0,9)) for x in range(random.randint(1, 9))]\n",
    "\n",
    "num = (int)(''.join(nums))\n",
    "shortNum = (int)(''.join(shortNum))\n",
    "\n",
    "print(num)\n",
    "print(captcha(num))\n",
    "\n",
    "print(shortNum)\n",
    "print(captcha(shortNum))"
   ]
  }
 ],
 "metadata": {
  "kernelspec": {
   "display_name": "Python 3 (ipykernel)",
   "language": "python",
   "name": "python3"
  },
  "language_info": {
   "codemirror_mode": {
    "name": "ipython",
    "version": 3
   },
   "file_extension": ".py",
   "mimetype": "text/x-python",
   "name": "python",
   "nbconvert_exporter": "python",
   "pygments_lexer": "ipython3",
   "version": "3.10.2"
  }
 },
 "nbformat": 4,
 "nbformat_minor": 5
}
